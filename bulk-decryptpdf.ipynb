{
 "cells": [
  {
   "cell_type": "code",
   "execution_count": 1,
   "metadata": {},
   "outputs": [],
   "source": [
    "# code source https://gist.github.com/bzamecnik/1abb64affb21322256f1c4ebbb59a364#file-decrypt_pdf-py\n",
    "# place the python script in the same folder as encrypted pdf file\n",
    "\n",
    "from PyPDF2 import PdfFileReader, PdfFileWriter\n",
    "import os\n",
    "\n",
    "def decrypt_pdf(input_path, output_path, password):\n",
    "  with open(input_path, 'rb') as input_file, \\\n",
    "    open(output_path, 'wb') as output_file:\n",
    "    reader = PdfFileReader(input_file)\n",
    "    reader.decrypt(password)\n",
    "\n",
    "    writer = PdfFileWriter()\n",
    "\n",
    "    for i in range(reader.getNumPages()):\n",
    "      writer.addPage(reader.getPage(i))\n",
    "\n",
    "    writer.write(output_file)"
   ]
  },
  {
   "cell_type": "code",
   "execution_count": 5,
   "metadata": {},
   "outputs": [],
   "source": [
    "directory = os.getcwd()\n",
    "secret_password = \"pass\" #to replace with password\n",
    "\n",
    "for file in os.listdir(directory):\n",
    "    filename = os.fsdecode(file)\n",
    "    if filename.endswith(\"Optimum.pdf\"): \n",
    "#         print(os.path.join(directory, filename))\n",
    "        newname = filename.replace(\"Optimum.pdf\", \"Optimum_decrypted.pdf\")\n",
    "        decrypt_pdf(filename, newname, secret_password)\n",
    "        continue\n",
    "    else:\n",
    "         continue"
   ]
  },
  {
   "cell_type": "code",
   "execution_count": null,
   "metadata": {},
   "outputs": [],
   "source": []
  }
 ],
 "metadata": {
  "kernelspec": {
   "display_name": "Python 3",
   "language": "python",
   "name": "python3"
  },
  "language_info": {
   "codemirror_mode": {
    "name": "ipython",
    "version": 3
   },
   "file_extension": ".py",
   "mimetype": "text/x-python",
   "name": "python",
   "nbconvert_exporter": "python",
   "pygments_lexer": "ipython3",
   "version": "3.7.5"
  }
 },
 "nbformat": 4,
 "nbformat_minor": 2
}
